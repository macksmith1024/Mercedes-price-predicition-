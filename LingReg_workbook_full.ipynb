{
 "cells": [
  {
   "cell_type": "markdown",
   "source": [
    "## 5. Feature Engineering"
   ],
   "metadata": {
    "collapsed": false
   }
  },
  {
   "cell_type": "code",
   "execution_count": null,
   "outputs": [],
   "source": [
    "def ulez_bool(df):\n",
    "    \"\"\" Function to replace nulls in the 'ULEZ' column. \"\"\"\n",
    "\n",
    "    # when the field is not null then use the value\n",
    "    # in the 'ULEZ' field directly\n",
    "    if df.ULEZ == df.ULEZ:\n",
    "        return df.ULEZ\n",
    "    # when the field is null the use the following cases\n",
    "    else:\n",
    "        # when the car is a petrol car\n",
    "        if      (df.model_year > 2004.00) & \\\n",
    "                ((df.fuel == 'Petrol') |\n",
    "                                            (df.fuel == 'Petrol Plug-in Hybrid') |\n",
    "                                            (df.fuel == 'Petrol Hybrid')):\n",
    "            return 'ULEZ'\n",
    "        # when the car is a diesel car and registered\n",
    "        # during or after the second half of 2015\n",
    "        elif    (df.model_year >= 2015.00 ) & \\\n",
    "                ((df.fuel == 'Diesel') |\n",
    "                                              (df.fuel == 'Diesel Hybrid') |\n",
    "                                              (df.fuel == 'Diesel Plug-in Hybrid')) & \\\n",
    "                (df.reg_year_half == 2.00 ):\n",
    "            return 'ULEZ'\n",
    "        # when the car is a diesel car and registered\n",
    "        # before the second half of 2015\n",
    "        elif    (df.model_year <= 2015.00 ) & \\\n",
    "                ((df.fuel == 'Diesel') |\n",
    "                                              (df.fuel == 'Diesel Hybrid') |\n",
    "                                              (df.fuel == 'Diesel Plug-in Hybrid')) & \\\n",
    "                (df.reg_year_half == 1.00 ):\n",
    "            return 'Not ULEZ'\n",
    "        elif df.fuel == 'Electric':\n",
    "            return 'ULEZ'\n",
    "        else:\n",
    "            return 'Not ULEZ'\n",
    "\n",
    "x = cleaned_df[[\"owners\", \"reg_year\"]]\n",
    "sel_x = x[[\"owners\",\"reg_year\"]]\n",
    "df_own = sel_x.groupby(\"reg_year\").agg({\"owners\":\"median\"}).reset_index()\n",
    "dict_own = df_own.to_dict()\n",
    "ry_list = list(dict_own['reg_year'].values())\n",
    "ow_list = list(dict_own['owners'].values())\n",
    "ref_dict = dict(zip(ry_list,ow_list))\n",
    "\n",
    "def fill_owners(row):\n",
    "    \"\"\" Function to fill nulls in 'owners' column. \"\"\"\n",
    "    if row.owners == row.owners:\n",
    "        return row.owners\n",
    "    elif row.reg_year == row.reg_year:\n",
    "        if row.reg_year > 2020:\n",
    "            return 1\n",
    "        else:\n",
    "            return ref_dict[row.reg_year]\n",
    "    else: return\n",
    "\n",
    "# full_df['new_owners'] = full_df.apply(fill_owners,axis=1)"
   ],
   "metadata": {
    "collapsed": false
   }
  },
  {
   "cell_type": "code",
   "execution_count": null,
   "outputs": [],
   "source": [
    "def engineer_features(df):\n",
    "    df['ULEZ_bool'] = df.apply(ulez_bool,axis=1)\n",
    "    df['new_owners'] = df.apply(fill_owners,axis=1)\n",
    "    df['log_mileage'] = np.log(df.mileage)\n",
    "    df['log_age'] = np.log(df.age)\n",
    "    df['inv_age'] = df.age ** -1\n",
    "    df = pd.get_dummies(df, columns = ['ULEZ_bool'], drop_first = True, prefix = 'ulez')\n",
    "    df = pd.get_dummies(df, columns = ['body'], drop_first = True, prefix = 'body')\n",
    "    df = pd.get_dummies(df, columns = ['transmission'], drop_first = True, prefix = 'trnm')\n",
    "    df = pd.get_dummies(df, columns = ['fuel'], drop_first = True, prefix = 'fuel')\n",
    "    df = pd.get_dummies(df, columns = ['writeoff'], drop_first = True, prefix = 'wo')\n",
    "    df = pd.get_dummies(df, columns = ['reg_year_half'], drop_first = True, prefix = 'ryh')\n",
    "    df = pd.get_dummies(df, columns = ['model'], drop_first = True, prefix = 'model')\n",
    "    df['const'] = 1\n",
    "    return df"
   ],
   "metadata": {
    "collapsed": false
   }
  },
  {
   "cell_type": "code",
   "execution_count": null,
   "outputs": [],
   "source": [
    "X_train_eng = engineer_features(X_train)\n",
    "X_train_eng.head()"
   ],
   "metadata": {
    "collapsed": false
   }
  },
  {
   "cell_type": "code",
   "execution_count": null,
   "outputs": [],
   "source": [
    "print(X_train_eng.columns)"
   ],
   "metadata": {
    "collapsed": false
   }
  },
  {
   "cell_type": "markdown",
   "source": [
    "## 6. Training and Optimising the Linear Regression Model"
   ],
   "metadata": {
    "collapsed": false
   }
  },
  {
   "cell_type": "code",
   "execution_count": null,
   "outputs": [],
   "source": [
    "# feature_cols = ['mileage', 'owners', 'ULEZ', 'engine', 'reg_year', 'model_year', 'age',\n",
    "#                 'new_owners', 'log_mileage', 'log_age', 'inv_age', 'ulez_ULEZ',\n",
    "#                 'body_Coupe', 'body_Estate', 'body_Hatchback', 'body_MPV', 'body_SUV',\n",
    "#                 'body_Saloon', 'trnm_Manual', 'fuel_Diesel Hybrid',\n",
    "#                 'fuel_Diesel Plug-in Hybrid', 'fuel_Electric', 'fuel_Petrol',\n",
    "#                 'fuel_Petrol Hybrid', 'fuel_Petrol Plug-in Hybrid', 'wo_1', 'ryh_2.0',\n",
    "#                 'model_B Class', 'model_C Class', 'model_CLA Class', 'model_E Class',\n",
    "#                 'model_GLA Class', 'model_GLC Class', 'model_GLE Class', 'const']\n",
    "\n",
    "# feature_cols = ['const', 'model_year', 'new_owners', 'log_mileage', 'log_age',\n",
    "#                 'ulez_ULEZ', 'body_Coupe', 'body_Estate', 'body_Hatchback', 'body_MPV',\n",
    "#                 'body_SUV', 'body_Saloon', 'trnm_Manual', 'fuel_Diesel Hybrid',\n",
    "#                 'fuel_Diesel Plug-in Hybrid', 'fuel_Electric', 'fuel_Petrol',\n",
    "#                 'fuel_Petrol Hybrid', 'fuel_Petrol Plug-in Hybrid', 'wo_1', 'ryh_2.0',\n",
    "#                 'model_B Class', 'model_C Class', 'model_CLA Class',\n",
    "#                 'model_E Class', 'model_GLA Class', 'model_GLC Class',\n",
    "#                 'model_GLE Class']\n",
    "\n",
    "# feature_cols = ['const', 'model_year', 'new_owners', 'log_mileage', 'log_age',\n",
    "#                 'ulez_ULEZ', 'body_Coupe', 'body_Estate', 'body_Hatchback', 'body_MPV',\n",
    "#                 'body_SUV', 'body_Saloon', 'trnm_Manual', 'wo_1', 'ryh_2.0',\n",
    "#                 'model_B Class', 'model_C Class', 'model_CLA Class',\n",
    "#                 'model_E Class', 'model_GLA Class', 'model_GLC Class',\n",
    "#                 'model_GLE Class']\n",
    "\n",
    "# feature_cols = ['const', 'engine', 'reg_year',\n",
    "#                 'model_year', 'age', 'new_owners', 'log_mileage', 'log_age',\n",
    "#                 'ulez_ULEZ', 'trnm_Manual', 'fuel_Diesel Hybrid',\n",
    "#                 'fuel_Diesel Plug-in Hybrid', 'fuel_Electric', 'fuel_Petrol',\n",
    "#                 'fuel_Petrol Hybrid', 'fuel_Petrol Plug-in Hybrid', 'wo_1', 'ryh_2.0']\n",
    "\n",
    "# feature_cols = ['const', 'engine', 'new_owners', 'log_mileage', 'log_age',\n",
    "#                 'ulez_ULEZ', 'body_Coupe', 'body_Estate',\n",
    "#                 'body_Saloon', 'trnm_Manual', 'fuel_Diesel Hybrid',\n",
    "#                 'fuel_Diesel Plug-in Hybrid', 'fuel_Petrol',\n",
    "#                 'fuel_Petrol Hybrid', 'fuel_Petrol Plug-in Hybrid', 'wo_1', 'ryh_2.0']\n",
    "\n",
    "feature_cols = ['engine','new_owners', 'log_mileage', 'log_age', 'ulez_ULEZ',\n",
    "                'body_Coupe', 'body_Estate', 'body_Hatchback',\n",
    "                'body_Saloon', 'trnm_Manual', 'fuel_Diesel Hybrid',\n",
    "                'fuel_Diesel Plug-in Hybrid', 'fuel_Petrol',\n",
    "                'fuel_Petrol Hybrid', 'fuel_Petrol Plug-in Hybrid', 'wo_1', 'ryh_2.0', 'const','model_B Class', 'model_C Class', 'model_CLA Class', 'model_E Class', 'model_GLA Class', 'model_GLC Class','model_GLE Class']\n",
    "\n",
    "def train_sm_lin_reg(X,y,feature_cols):\n",
    "    _X = X[feature_cols]\n",
    "    lin_reg = sm.OLS(y, _X)\n",
    "    results = lin_reg.fit()\n",
    "    y_pred = pd.Series(dtype=float)\n",
    "    y_pred = results.predict(_X)\n",
    "\n",
    "    rmse = statsmodels.tools.eval_measures.rmse(y, y_pred)\n",
    "\n",
    "    print(f'rmse: {rmse} \\n')\n",
    "    print(results.params)\n",
    "    print(results.summary())\n",
    "    return results"
   ],
   "metadata": {
    "collapsed": false
   }
  },
  {
   "cell_type": "code",
   "execution_count": null,
   "outputs": [],
   "source": [
    "X_train_eng[feature_cols].shape"
   ],
   "metadata": {
    "collapsed": false
   }
  },
  {
   "cell_type": "code",
   "execution_count": null,
   "outputs": [],
   "source": [
    "y_train.shape"
   ],
   "metadata": {
    "collapsed": false
   }
  },
  {
   "cell_type": "code",
   "execution_count": null,
   "outputs": [],
   "source": [
    "first_reg = train_sm_lin_reg(X_train_eng,y_train,feature_cols)\n",
    "lin_reg = sm.OLS(y_train, X_train_eng[feature_cols])\n",
    "results = lin_reg.fit()\n",
    "\n",
    "y_pred = pd.Series()\n",
    "y_pred = pd.Series(results.predict(X_train_eng))\n",
    "\n",
    "rmse = statsmodels.tools.eval_measures.rmse(y_train, y_pred)\n",
    "\n",
    "print(f'rmse  \\t  {rmse}')\n",
    "print(results.params)\n",
    "print(results.summary())"
   ],
   "metadata": {
    "collapsed": false
   }
  },
  {
   "cell_type": "code",
   "execution_count": null,
   "outputs": [],
   "source": [
    "from statsmodels.stats.outliers_influence import variance_inflation_factor\n",
    "\n",
    "def checkVIF(X):\n",
    "    ''' Function to calculate the VIF of a dataframe '''\n",
    "    vif = pd.DataFrame() ## Initialising an empty dataframe\n",
    "    vif['Features'] = feature_cols ## The features are the ones used in training\n",
    "\n",
    "    ''' Calculating the VIF of each individual feature '''\n",
    "    vif['VIF'] = [variance_inflation_factor(X[feature_cols].values, i) for i in range(X[feature_cols].shape[1])]\n",
    "    vif['VIF'] = round(vif['VIF'], 2) ## Rounding it up to 2 decimal places\n",
    "\n",
    "    vif = vif.sort_values(by = \"VIF\", ascending = False) ## Sort it from highest to lowest\n",
    "\n",
    "    return(vif)\n",
    "checkVIF(X_train_eng)"
   ],
   "metadata": {
    "collapsed": false
   }
  },
  {
   "cell_type": "markdown",
   "source": [
    "## 7.Testing the model"
   ],
   "metadata": {
    "collapsed": false
   }
  },
  {
   "cell_type": "code",
   "execution_count": null,
   "outputs": [],
   "source": [
    "X_test_eng = engineer_features(X_test)\n",
    "X_test_eng = X_test_eng[feature_cols]\n",
    "\n",
    "\n",
    "# X_test_eng['y_pred'] = results.predict(X_test_eng)\n",
    "y_pred_test = first_reg.predict(X_test_eng)\n",
    "rmse = statsmodels.tools.eval_measures.rmse(y_test, y_pred_test)\n",
    "print(rmse)"
   ],
   "metadata": {
    "collapsed": false
   }
  },
  {
   "cell_type": "code",
   "execution_count": null,
   "outputs": [],
   "source": [],
   "metadata": {
    "collapsed": false
   }
  },
  {
   "cell_type": "markdown",
   "source": [
    "We were not happy with the total RMSE and decided to split the data and run linear regression models using the same approach for every single model of Mercedes in an effort to bring down the RMSE. The result ended up with a mean RMSE across the 8 models of 3065 a decrease "
   ],
   "metadata": {
    "collapsed": false
   }
  },
  {
   "cell_type": "code",
   "execution_count": null,
   "outputs": [],
   "source": [],
   "metadata": {
    "collapsed": false
   }
  },
  {
   "cell_type": "code",
   "execution_count": null,
   "outputs": [],
   "source": [],
   "metadata": {
    "collapsed": false
   }
  }
 ],
 "metadata": {
  "kernelspec": {
   "display_name": "Python 3",
   "language": "python",
   "name": "python3"
  },
  "language_info": {
   "codemirror_mode": {
    "name": "ipython",
    "version": 2
   },
   "file_extension": ".py",
   "mimetype": "text/x-python",
   "name": "python",
   "nbconvert_exporter": "python",
   "pygments_lexer": "ipython2",
   "version": "2.7.6"
  }
 },
 "nbformat": 4,
 "nbformat_minor": 0
}
